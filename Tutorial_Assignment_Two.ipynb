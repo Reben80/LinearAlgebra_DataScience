{
  "nbformat": 4,
  "nbformat_minor": 0,
  "metadata": {
    "colab": {
      "provenance": [],
      "mount_file_id": "1ioB_NnyloBlBGLqhXo5X9Zddd0w1RwX4",
      "authorship_tag": "ABX9TyNs0P1WcNPU26HpR8JSkP1p",
      "include_colab_link": true
    },
    "kernelspec": {
      "name": "python3",
      "display_name": "Python 3"
    },
    "language_info": {
      "name": "python"
    }
  },
  "cells": [
    {
      "cell_type": "markdown",
      "metadata": {
        "id": "view-in-github",
        "colab_type": "text"
      },
      "source": [
        "<a href=\"https://colab.research.google.com/github/Reben80/LinearAlgebra_DataScience/blob/main/Tutorial_Assignment_Two.ipynb\" target=\"_parent\"><img src=\"https://colab.research.google.com/assets/colab-badge.svg\" alt=\"Open In Colab\"/></a>"
      ]
    },
    {
      "cell_type": "code",
      "execution_count": null,
      "metadata": {
        "id": "Yy9p_PGUt290"
      },
      "outputs": [],
      "source": [
        "import numpy as np"
      ]
    },
    {
      "cell_type": "markdown",
      "source": [
        " # Creating a Matrix using numpy\n"
      ],
      "metadata": {
        "id": "JC1EqS6i3WgV"
      }
    },
    {
      "cell_type": "code",
      "source": [
        "D=np.array([[1,2,3],[4,5,6]])\n",
        "\n",
        "print(f\"The matrix D is :{D}\")\n",
        "\n",
        "\n",
        "\n",
        "# Creating matrices\n",
        "A = np.array([[1, 2], [3, 4]])\n",
        "B = np.array([[2, 2], [2, 2]])\n",
        "\n",
        "print(\"Matrix A:\")\n",
        "print(A)\n",
        "\n",
        "print(\"\\nMatrix B:\") # \\n new row\n",
        "print(B)\n",
        "\n",
        "\n",
        "\n"
      ],
      "metadata": {
        "colab": {
          "base_uri": "https://localhost:8080/"
        },
        "id": "JaJuplUf3bfI",
        "outputId": "889de537-9b96-4674-ae49-c39a085f3202"
      },
      "execution_count": null,
      "outputs": [
        {
          "output_type": "stream",
          "name": "stdout",
          "text": [
            "The matrix D is :[[1 2 3]\n",
            " [4 5 6]]\n",
            "Matrix A:\n",
            "[[1 2]\n",
            " [3 4]]\n",
            "\n",
            "Matrix B:\n",
            "[[2 2]\n",
            " [2 2]]\n"
          ]
        }
      ]
    },
    {
      "cell_type": "markdown",
      "source": [
        "## Basic Matrix Operation"
      ],
      "metadata": {
        "id": "ItK50m_w5EnY"
      }
    },
    {
      "cell_type": "code",
      "source": [
        "\n",
        "# Addition\n",
        "C = A + B\n",
        "print(\"\\nAddition (A + B):\")\n",
        "print(C)\n",
        "\n",
        "# Subtraction\n",
        "D = A - B\n",
        "print(\"\\nSubtraction (A - B):\")\n",
        "print(D)\n",
        "\n",
        "# Scalar Multiplication\n",
        "E = 3 * A\n",
        "print(\"\\nScalar Multiplication (3 * A):\")\n",
        "print(E)\n",
        "\n",
        "# Matrix Multiplication\n",
        "F = np.dot(A, B)\n",
        "print(\"\\nMatrix Multiplication (A * B):\")\n",
        "print(F)\n",
        "\n",
        "# Transpose Every row become column and column become row... that is first row become first column, and second row become second coumn etc......\n",
        "G = A.T\n",
        "print(\"\\nTranspose of A:\")\n",
        "print(G)\n",
        "\n",
        "\n",
        "# Note: Always ensure matrices have the correct dimensions for operations\n"
      ],
      "metadata": {
        "id": "I_yIkt-F5Awg"
      },
      "execution_count": null,
      "outputs": []
    },
    {
      "cell_type": "markdown",
      "source": [
        "## Matrix Indexing"
      ],
      "metadata": {
        "id": "TbNiM6507aY2"
      }
    },
    {
      "cell_type": "code",
      "source": [
        "\n",
        "\n",
        "# Creating a 3x4 matrix\n",
        "M = np.array([[1, 2, 3, 4], [5, 6, 7, 8], [9, 10, 11, 12]])\n",
        "print(\"Matrix M:\")\n",
        "print(M)\n",
        "\n",
        "# Indexing\n",
        "# Single element indexing\n",
        "element_1_2 = M[0, 1]  # Accessing the element in the first row and second column\n",
        "print(f\"\\nElement at [0, 1]: {element_1_2}\")\n",
        "\n",
        "# Row indexing\n",
        "row_2 = M[1, :]  # Accessing the second row : mean everytiong column here\n",
        "print(\"\\nRow 2:\")\n",
        "print(row_2)\n",
        "\n",
        "# Column indexing\n",
        "col_3 = M[:, 2]  # Accessing the third column\n",
        "print(\"\\nColumn 3:\")\n",
        "print(col_3)\n",
        "\n",
        "# Sub-matrix indexing\n",
        "sub_matrix = M[1:, 1:3]  # Accessing the sub-matrix starting from the second row and columns 2 and 3\n",
        "print(\"\\nSub-matrix from row 2 and columns 2-3:\")\n",
        "print(sub_matrix)\n",
        "\n",
        "# Conditional indexing\n",
        "greater_than_6 = M[M > 6]  # Get elements greater than 6\n",
        "print(\"\\nElements greater than 6:\")\n",
        "print(greater_than_6)\n",
        "\n",
        "# Changing an element value using indexing\n",
        "M[2, 3] = 0  # Setting the element at the third row and fourth column to 0\n",
        "print(\"\\nMatrix M after updating [2, 3]:\")\n",
        "print(M)\n",
        "\n",
        "# Note: Python indexing starts from 0, so the first row/column is index 0, the second is index 1, and so on.\n",
        "\n",
        "subMatrixM=M[0:2,0:2]  # whenver you say from 0 to 3 in python that python take 0,1 and 2.... it does NOT take 3\n",
        "print(subMatrixM)\n"
      ],
      "metadata": {
        "colab": {
          "base_uri": "https://localhost:8080/"
        },
        "id": "-Mx0XQ8i7ZFF",
        "outputId": "756ec3d2-40a8-48ce-bcc6-d40bf43d2a3c"
      },
      "execution_count": null,
      "outputs": [
        {
          "output_type": "stream",
          "name": "stdout",
          "text": [
            "Matrix M:\n",
            "[[ 1  2  3  4]\n",
            " [ 5  6  7  8]\n",
            " [ 9 10 11 12]]\n",
            "\n",
            "Element at [0, 1]: 2\n",
            "\n",
            "Row 2:\n",
            "[5 6 7 8]\n",
            "\n",
            "Column 3:\n",
            "[ 3  7 11]\n",
            "\n",
            "Sub-matrix from row 2 and columns 2-3:\n",
            "[[ 6  7]\n",
            " [10 11]]\n",
            "\n",
            "Elements greater than 6:\n",
            "[ 7  8  9 10 11 12]\n",
            "\n",
            "Matrix M after updating [2, 3]:\n",
            "[[ 1  2  3  4]\n",
            " [ 5  6  7  8]\n",
            " [ 9 10 11  0]]\n",
            "[[1 2]\n",
            " [5 6]]\n"
          ]
        }
      ]
    },
    {
      "cell_type": "markdown",
      "source": [
        "## Special Matrices in Python using Numpy\n",
        "\n",
        "In linear algebra, there are several special matrices that are widely used due to their unique properties. Using the numpy library in Python, we can easily create and work with these matrices. In this tutorial, we'll explore some of the most common special matrices.\n",
        "\n",
        "1. Identity Matrix\n",
        "Description: A square matrix in which all the elements of the principal diagonal are ones and all other elements are zeros."
      ],
      "metadata": {
        "id": "WFvRrt5ww6cm"
      }
    },
    {
      "cell_type": "code",
      "source": [
        "\n",
        "I = np.eye(3)\n",
        "print(\"Identity Matrix 3x3:\")\n",
        "print(I)\n"
      ],
      "metadata": {
        "id": "clOl6udvt51d"
      },
      "execution_count": null,
      "outputs": []
    },
    {
      "cell_type": "markdown",
      "source": [
        "2. Zero Matrix\n",
        "Description: A matrix in which all the elements are zeros."
      ],
      "metadata": {
        "id": "lq8KZhJ8w-pN"
      }
    },
    {
      "cell_type": "code",
      "source": [
        "Z = np.zeros((3, 4))\n",
        "print(\"\\nZero Matrix 3x4:\")\n",
        "print(Z)\n"
      ],
      "metadata": {
        "id": "zXv1tIxWxBOE",
        "colab": {
          "base_uri": "https://localhost:8080/"
        },
        "outputId": "5084311c-55f6-49ad-c65d-006c5eff7190"
      },
      "execution_count": null,
      "outputs": [
        {
          "output_type": "stream",
          "name": "stdout",
          "text": [
            "\n",
            "Zero Matrix 3x4:\n",
            "[[0. 0. 0. 0.]\n",
            " [0. 0. 0. 0.]\n",
            " [0. 0. 0. 0.]]\n"
          ]
        }
      ]
    },
    {
      "cell_type": "markdown",
      "source": [
        "3. Ones Matrix\n",
        "Description: A matrix in which all the elements are ones."
      ],
      "metadata": {
        "id": "dtMnK0YYxEI_"
      }
    },
    {
      "cell_type": "code",
      "source": [
        "O = np.ones((3, 4))\n",
        "print(\"\\nOnes Matrix 3x4:\")\n",
        "print(O)"
      ],
      "metadata": {
        "id": "WS5I2LAhxDPv"
      },
      "execution_count": null,
      "outputs": []
    },
    {
      "cell_type": "markdown",
      "source": [
        "4. Random Matrix (between 0 and 1)\n",
        "Description: A matrix with elements generated randomly between 0 and 1."
      ],
      "metadata": {
        "id": "e3bEtoLDxQTJ"
      }
    },
    {
      "cell_type": "code",
      "source": [
        "R1 = np.random.rand(3, 4)\n",
        "print(\"\\nRandom Matrix 3x4 (between 0 and 1):\")\n",
        "print(R1)\n"
      ],
      "metadata": {
        "id": "JhGvckkTxSsD"
      },
      "execution_count": null,
      "outputs": []
    },
    {
      "cell_type": "markdown",
      "source": [
        "5. Random Matrix (between 1 and n)\n",
        "Description: A matrix with random integer elements between a specified range (inclusive)."
      ],
      "metadata": {
        "id": "NULWpYvYxhLl"
      }
    },
    {
      "cell_type": "code",
      "source": [
        "n = 10\n",
        "R2 = np.random.randint(1, n+1, size=(3, 4))\n",
        "print(f\"\\nRandom Matrix 3x4 (between 1 and {n}):\")\n",
        "print(R2)"
      ],
      "metadata": {
        "id": "Uu17OkP1xhrc"
      },
      "execution_count": null,
      "outputs": []
    },
    {
      "cell_type": "code",
      "source": [
        "M\n",
        "print(M)"
      ],
      "metadata": {
        "colab": {
          "base_uri": "https://localhost:8080/"
        },
        "id": "Q1zgjwxV4fEJ",
        "outputId": "8c26d394-a934-4175-b86d-f5c8a17149f5"
      },
      "execution_count": null,
      "outputs": [
        {
          "output_type": "stream",
          "name": "stdout",
          "text": [
            "[[ 1  2  3  4]\n",
            " [ 5  6  7  8]\n",
            " [ 9 10 11  0]]\n"
          ]
        }
      ]
    },
    {
      "cell_type": "code",
      "source": [],
      "metadata": {
        "id": "Ga-Ra0Em4iwo"
      },
      "execution_count": null,
      "outputs": []
    }
  ]
}