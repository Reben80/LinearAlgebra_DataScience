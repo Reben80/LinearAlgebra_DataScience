{
  "nbformat": 4,
  "nbformat_minor": 0,
  "metadata": {
    "colab": {
      "provenance": [],
      "toc_visible": true,
      "authorship_tag": "ABX9TyMlGOQ5QE9KUPHq9OCA1ZqD",
      "include_colab_link": true
    },
    "kernelspec": {
      "name": "python3",
      "display_name": "Python 3"
    },
    "language_info": {
      "name": "python"
    }
  },
  "cells": [
    {
      "cell_type": "markdown",
      "metadata": {
        "id": "view-in-github",
        "colab_type": "text"
      },
      "source": [
        "<a href=\"https://colab.research.google.com/github/Reben80/LinearAlgebra_DataScience/blob/main/Math264_Assinment_0.ipynb\" target=\"_parent\"><img src=\"https://colab.research.google.com/assets/colab-badge.svg\" alt=\"Open In Colab\"/></a>"
      ]
    },
    {
      "cell_type": "markdown",
      "source": [
        "Lets first put the pakckage we need"
      ],
      "metadata": {
        "id": "WZ-8gPovIKeG"
      }
    },
    {
      "cell_type": "code",
      "execution_count": null,
      "metadata": {
        "id": "RjzwsY0YIIKk"
      },
      "outputs": [],
      "source": [
        "import matplotlib.pyplot as plt\n",
        "import numpy as np\n",
        "import sympy as sp\n",
        "\n"
      ]
    },
    {
      "cell_type": "markdown",
      "source": [
        "\n",
        "# Task 1: Graphing a Function using Matplotlib\n",
        "\n"
      ],
      "metadata": {
        "id": "kGqYt7yKITzr"
      }
    },
    {
      "cell_type": "code",
      "source": [
        "# Creating a range of x-values\n",
        "x_values = np.linspace(-10, 10, 400)\n",
        "\n",
        "# Calculating y-values for the function y = x^2\n",
        "y_values = x_values**2\n",
        "\n",
        "# Plotting the function\n",
        "plt.figure(figsize=(8, 6))\n",
        "plt.plot(x_values, y_values, label='y = x^2')\n",
        "plt.title('Graph of y = x^2')\n",
        "plt.xlabel('x')\n",
        "plt.ylabel('y')\n",
        "plt.legend()\n",
        "plt.grid(True)\n",
        "plt.show()\n",
        "\n"
      ],
      "metadata": {
        "id": "OA0MtvY9IXS5"
      },
      "execution_count": null,
      "outputs": []
    },
    {
      "cell_type": "markdown",
      "source": [
        "Solving a 3x3 System of Linear Equations using SymPy\n",
        "\n"
      ],
      "metadata": {
        "id": "UwCJF-9jIaaX"
      }
    },
    {
      "cell_type": "code",
      "source": [
        "# Defining the symbols\n",
        "a, b, c = sp.symbols('a b c')\n",
        "\n",
        "# Defining the equations\n",
        "eq1 = sp.Eq(a + 2*b + 3*c, 1)\n",
        "eq2 = sp.Eq(2*a + 3*b + c, 0)\n",
        "eq3 = sp.Eq(3*a + b + 2*c, 1)\n",
        "\n",
        "# Solving the equations\n",
        "solution = sp.solve((eq1, eq2, eq3), (a, b, c))\n",
        "solution"
      ],
      "metadata": {
        "id": "3k9qw4B2Ic0S"
      },
      "execution_count": null,
      "outputs": []
    },
    {
      "cell_type": "markdown",
      "source": [
        "Another method to solve systme of linear equations without using symbols"
      ],
      "metadata": {
        "id": "AmtACIKkJOrm"
      }
    },
    {
      "cell_type": "code",
      "source": [
        "# Defining the matrices A and B\n",
        "A = sp.Matrix([[1, 2, 3], [2, 3, 1], [3, 1, 2]])\n",
        "B = sp.Matrix([1, 0, 1])\n",
        "\n",
        "# Augmenting the matrix A with B to form the augmented matrix [A|B]\n",
        "augmented_matrix = A.row_join(B)\n",
        "\n",
        "# Solving the linear system AX = B\n",
        "solution_matrix = sp.solve_linear_system(augmented_matrix, a, b, c)\n",
        "solution_matrix\n"
      ],
      "metadata": {
        "id": "K5m8N2XHJLUN"
      },
      "execution_count": null,
      "outputs": []
    }
  ]
}