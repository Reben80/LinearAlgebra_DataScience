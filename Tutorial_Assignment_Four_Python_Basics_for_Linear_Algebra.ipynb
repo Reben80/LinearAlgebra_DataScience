{
  "cells": [
    {
      "cell_type": "markdown",
      "metadata": {
        "id": "view-in-github",
        "colab_type": "text"
      },
      "source": [
        "<a href=\"https://colab.research.google.com/github/Reben80/LinearAlgebra_DataScience/blob/main/Tutorial_Assignment_Four_Python_Basics_for_Linear_Algebra.ipynb\" target=\"_parent\"><img src=\"https://colab.research.google.com/assets/colab-badge.svg\" alt=\"Open In Colab\"/></a>"
      ]
    },
    {
      "cell_type": "markdown",
      "id": "50e380e3",
      "metadata": {
        "id": "50e380e3"
      },
      "source": [
        "\n",
        "# Tutorial for Assignment: Python and Vector Spaces\n",
        "\n",
        "This notebook provides a guide to help you with the assignment on implementing functions to determine if a set of vectors spans a space, is linearly independent, and forms a basis for R^n.\n",
        "\n",
        "## Prerequisites\n",
        "Make sure you have the numpy library installed and understand the concepts of vector spaces, spanning sets, and linear independence.\n",
        "\n",
        "## Task 1: Understanding the Matrix A\n",
        "\n",
        "### 1.1 Accept the matrix A as a list of lists\n",
        "\n",
        "```python\n",
        "# Example matrix A (list of lists, each list is a column vector)\n",
        "A = [[1, 2], [3, 4], [5, 6]]\n",
        "```\n",
        "\n",
        "### 1.2 Convert the list of lists into a numpy array\n",
        "\n",
        "```python\n",
        "import numpy as np\n",
        "\n",
        "# Convert A to numpy array\n",
        "A_array = np.array(A).T  # Transpose to get columns as vectors\n",
        "```\n",
        "\n",
        "## Task 2: Check if A Spans R^n\n",
        "\n",
        "### Function: math264_Span\n",
        "\n",
        "```python\n",
        "def math264_Span(A):\n",
        "    # Assuming Math264_RREF is a predefined function to get RREF\n",
        "    RREF = Math264_RREF(A)\n",
        "    pivot_columns = count_pivots(RREF)  # Function to count pivot columns\n",
        "    return pivot_columns == A.shape[1]  # Spanning if pivot columns equal number of vectors\n",
        "\n",
        "# Helper function to count pivot columns\n",
        "def count_pivots(RREF):\n",
        "    # Implement counting logic here\n",
        "    pass\n",
        "```\n",
        "\n",
        "## Task 3: Check for Linear Independence\n",
        "\n",
        "### Function: math264_LI\n",
        "\n",
        "```python\n",
        "def math264_LI(A):\n",
        "    RREF = Math264_RREF(A)\n",
        "    pivot_columns = count_pivots(RREF)\n",
        "    return pivot_columns == A.shape[0]  # Linearly independent if pivot columns equal number of rows\n",
        "```\n",
        "\n",
        "## Task 4: Check for Basis\n",
        "\n",
        "### Function: math264_Basis\n",
        "\n",
        "```python\n",
        "def math264_Basis(A):\n",
        "    return math264_Span(A) and math264_LI(A)\n",
        "```\n",
        "\n",
        "## Testing the Functions\n",
        "\n",
        "Try testing your functions with different matrices to ensure their functionality.\n",
        "\n",
        "```python\n",
        "# Example test\n",
        "test_matrix = np.array([[1, 2, 3], [4, 5, 6], [7, 8, 9]])\n",
        "print(\"Does it span R^n?\", math264_Span(test_matrix))\n",
        "print(\"Is it linearly independent?\", math264_LI(test_matrix))\n",
        "print(\"Is it a basis for R^n?\", math264_Basis(test_matrix))\n",
        "```\n",
        "\n",
        "---\n",
        "\n",
        "Remember to include comments in your code and thoroughly test your functions with various matrices. Good luck!\n"
      ]
    }
  ],
  "metadata": {
    "colab": {
      "provenance": [],
      "include_colab_link": true
    }
  },
  "nbformat": 4,
  "nbformat_minor": 5
}