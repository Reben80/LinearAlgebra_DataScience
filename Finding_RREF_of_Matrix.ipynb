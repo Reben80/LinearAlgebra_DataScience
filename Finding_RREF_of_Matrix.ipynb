{
  "nbformat": 4,
  "nbformat_minor": 0,
  "metadata": {
    "colab": {
      "provenance": [],
      "authorship_tag": "ABX9TyPrug96t+6QT2sm5ox3Flxr",
      "include_colab_link": true
    },
    "kernelspec": {
      "name": "python3",
      "display_name": "Python 3"
    },
    "language_info": {
      "name": "python"
    }
  },
  "cells": [
    {
      "cell_type": "markdown",
      "metadata": {
        "id": "view-in-github",
        "colab_type": "text"
      },
      "source": [
        "<a href=\"https://colab.research.google.com/github/Reben80/LinearAlgebra_DataScience/blob/main/Finding_RREF_of_Matrix.ipynb\" target=\"_parent\"><img src=\"https://colab.research.google.com/assets/colab-badge.svg\" alt=\"Open In Colab\"/></a>"
      ]
    },
    {
      "cell_type": "markdown",
      "source": [
        "## RREF using Python & NumPy\n",
        "\n",
        "Step 1: Installation\n",
        "\n",
        "First, ensure you have NumPy and sympy imported."
      ],
      "metadata": {
        "id": "y3DSpZiUsf-W"
      }
    },
    {
      "cell_type": "code",
      "source": [
        "import numpy as np\n",
        "from sympy import Matrix\n",
        "import sympy"
      ],
      "metadata": {
        "id": "rK60dqINsigL"
      },
      "execution_count": null,
      "outputs": []
    },
    {
      "cell_type": "code",
      "source": [
        "\n",
        "def math264_rref(matrix):\n",
        "    # Convert the input matrix to a SymPy Matrix object\n",
        "    sympy_matrix = Matrix(matrix)\n",
        "\n",
        "    # Calculate the Reduced Row Echelon Form (RREF) using SymPy.\n",
        "    # The rref() method returns two values: the RREF matrix and the pivot columns.\n",
        "    # We're only interested in the RREF matrix, so we ignore the second return value using \"_\".\n",
        "    rref_matrix, _ = sympy_matrix.rref()\n",
        "\n",
        "    # Convert the RREF matrix from a SymPy Matrix back to a NumPy array.\n",
        "    # Additionally, we ensure all values in the matrix are floats.\n",
        "    return np.array(rref_matrix).astype(float)\n"
      ],
      "metadata": {
        "id": "YPmEmnMntBKU"
      },
      "execution_count": null,
      "outputs": []
    },
    {
      "cell_type": "markdown",
      "source": [
        "# Creating a matrix using random"
      ],
      "metadata": {
        "id": "Zh2dIUaUty9_"
      }
    },
    {
      "cell_type": "code",
      "source": [
        "# Random matrix with values between 0 and 1\n",
        "matrix_rand = np.random.rand(3, 4)\n",
        "print(\"Matrix with values between 0 and 1:\\n\", matrix_rand)\n",
        "\n",
        "# Random integer matrix with values between 0 and 9\n",
        "matrix_randint = np.random.randint(0, 10, (3, 4))\n",
        "print(\"\\nMatrix with random integers between 0 and 9:\\n\", matrix_randint)"
      ],
      "metadata": {
        "id": "XD1KhOu_tKU6",
        "colab": {
          "base_uri": "https://localhost:8080/"
        },
        "outputId": "5a9b8c75-9aa4-4813-d4da-c320acb2ca07"
      },
      "execution_count": null,
      "outputs": [
        {
          "output_type": "stream",
          "name": "stdout",
          "text": [
            "Matrix with values between 0 and 1:\n",
            " [[0.2738921  0.76845171 0.85190681 0.87020363]\n",
            " [0.14170222 0.21383497 0.33579431 0.6871175 ]\n",
            " [0.58880795 0.89108096 0.3906816  0.56077003]]\n",
            "\n",
            "Matrix with random integers between 0 and 9:\n",
            " [[9 3 5 4]\n",
            " [6 2 7 9]\n",
            " [6 9 8 8]]\n"
          ]
        }
      ]
    },
    {
      "cell_type": "code",
      "source": [
        "R=[[1,0,-1,-3,-3],[0,1,5,13,12],[1,-1,-5,-13,-12]]\n",
        "RR=math264_rref(Matrix(np.array(R)))\n",
        "print(RR)\n"
      ],
      "metadata": {
        "colab": {
          "base_uri": "https://localhost:8080/"
        },
        "id": "u3CmPLmy0dd_",
        "outputId": "89a96263-a3f8-4567-c07a-0f0c11ec5fb6"
      },
      "execution_count": null,
      "outputs": [
        {
          "output_type": "stream",
          "name": "stdout",
          "text": [
            "[[ 1.  0.  0.  0.  0.]\n",
            " [ 0.  1.  0. -2. -3.]\n",
            " [ 0.  0.  1.  3.  3.]]\n"
          ]
        }
      ]
    },
    {
      "cell_type": "code",
      "source": [
        "# Define the Span function\n",
        "def math264_Span(A):\n",
        "    RREF_A = math264_rref(np.array(A))\n",
        "\n",
        "    # Count the number of pivot columns (non-zero rows in RREF)\n",
        "    pivot_count = 0\n",
        "    for row in RREF_A:\n",
        "        if not all(val == 0 for val in row):\n",
        "            pivot_count += 1\n",
        "\n",
        "    # Determine if A spans Rn\n",
        "    _, n = A.shape\n",
        "    if pivot_count == n:\n",
        "        return True, f\"The matrix A spans R^{n}\"\n",
        "    else:\n",
        "        return False, f\"The matrix A does not span R^{n}. It only spans R^{pivot_count}\"\n",
        "\n",
        "# Test the function\n",
        "A = np.array([[1, 2, 3], [2, 4, 6], [0, 0, 1]])\n",
        "result, message = math264_Span(A)\n",
        "result, message"
      ],
      "metadata": {
        "colab": {
          "base_uri": "https://localhost:8080/"
        },
        "id": "JXGXHxCO9Qv4",
        "outputId": "8110dd17-cd7d-47cc-c130-300d21c5b731"
      },
      "execution_count": null,
      "outputs": [
        {
          "output_type": "execute_result",
          "data": {
            "text/plain": [
              "(False, 'The matrix A does not span R^3. It only spans R^2')"
            ]
          },
          "metadata": {},
          "execution_count": 12
        }
      ]
    }
  ]
}