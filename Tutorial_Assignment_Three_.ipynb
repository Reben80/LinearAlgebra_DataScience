{
  "nbformat": 4,
  "nbformat_minor": 0,
  "metadata": {
    "colab": {
      "provenance": [],
      "authorship_tag": "ABX9TyPTYO3Gt8MkV4I4YUQg1u4F",
      "include_colab_link": true
    },
    "kernelspec": {
      "name": "python3",
      "display_name": "Python 3"
    },
    "language_info": {
      "name": "python"
    }
  },
  "cells": [
    {
      "cell_type": "markdown",
      "metadata": {
        "id": "view-in-github",
        "colab_type": "text"
      },
      "source": [
        "<a href=\"https://colab.research.google.com/github/Reben80/LinearAlgebra_DataScience/blob/main/Tutorial_Assignment_Three_.ipynb\" target=\"_parent\"><img src=\"https://colab.research.google.com/assets/colab-badge.svg\" alt=\"Open In Colab\"/></a>"
      ]
    },
    {
      "cell_type": "markdown",
      "source": [],
      "metadata": {
        "id": "t_WYP8UY35_0"
      }
    },
    {
      "cell_type": "code",
      "source": [
        "import numpy as np\n"
      ],
      "metadata": {
        "id": "ExxlXzhG8Hg_"
      },
      "execution_count": null,
      "outputs": []
    },
    {
      "cell_type": "markdown",
      "source": [
        "# Python Tutorial: Conditional Statements and Loops\n",
        "\n",
        "1. Introduction\n",
        " Conditional statements and loops allow your code to make decisions and perform repetitive tasks.\n",
        "In this tutorial, we'll explore the basics of these constructs with some mathematical examples.\n",
        "\n",
        "2. Conditional Statements (`if`, `elif`, and `else`)\n",
        "\n",
        "The `if` statement checks a condition. If that condition is `True`, it executes a block of code.\n"
      ],
      "metadata": {
        "id": "ePnqIMFg38Lm"
      }
    },
    {
      "cell_type": "code",
      "execution_count": null,
      "metadata": {
        "id": "tNAtHySJ3xfi"
      },
      "outputs": [],
      "source": [
        "\n",
        "x = 5\n",
        "if x > 0:\n",
        "    # This will print because x is positive.\n",
        "    print(\"x is positive!\")\n",
        "\n",
        "# You can add an `else` block for when the `if` condition is `False`.\n",
        "\n",
        "x = -5\n",
        "if x > 0:\n",
        "    print(\"x is positive!\")\n",
        "else:\n",
        "    # This will print because x is not positive.\n",
        "    print(\"x is not positive!\")\n",
        "\n",
        "\n"
      ]
    },
    {
      "cell_type": "markdown",
      "source": [
        "##  For more than two possible conditions, use the `elif` statement."
      ],
      "metadata": {
        "id": "LvrkYrmjLZIH"
      }
    },
    {
      "cell_type": "code",
      "source": [
        "\n",
        "\n",
        "x = 0\n",
        "if x > 0:\n",
        "    print(\"x is positive!\")\n",
        "elif x == 0:\n",
        "    # This will print because x is zero.\n",
        "    print(\"x is zero!\")\n",
        "else:\n",
        "    print(\"x is negative!\")\n",
        "\n",
        "# 3. Loops (`for` and `while` loops)\n",
        "\n",
        "# The `for` loop in Python iterates over sequences like lists or ranges.\n",
        "\n",
        "# Looping through a list\n",
        "primes = [2, 3, 5, 7, 11]\n",
        "for prime in primes:\n",
        "    print(prime)\n",
        "\n"
      ],
      "metadata": {
        "id": "soZh6iLLLWK4"
      },
      "execution_count": null,
      "outputs": []
    },
    {
      "cell_type": "markdown",
      "source": [
        "## Looping using a range"
      ],
      "metadata": {
        "id": "8R_opPNmLmkI"
      }
    },
    {
      "cell_type": "code",
      "source": [
        "#This will print numbers from 0 to 4.\n",
        "for i in range(5):\n",
        "    print(i)\n",
        "\n",
        "# The `while` loop runs as long as a condition is true.\n",
        "\n",
        "x = 5\n",
        "while x > 0:\n",
        "    # This will print numbers from 5 down to 1.\n",
        "    print(x)\n",
        "    x -= 1\n",
        "\n"
      ],
      "metadata": {
        "id": "HFgSgylXLg_4"
      },
      "execution_count": null,
      "outputs": []
    },
    {
      "cell_type": "markdown",
      "source": [
        "## 4. Mixing Conditionals and Loops\n",
        "\n",
        "Loop through a list and use conditionals to check if numbers are even or odd."
      ],
      "metadata": {
        "id": "rL8x6FhBL2Uz"
      }
    },
    {
      "cell_type": "code",
      "source": [
        "\n",
        "\n",
        "numbers = [1, 2, 3, 4, 5, 6, 7, 8, 9]\n",
        "for num in numbers:\n",
        "    if num % 2 == 0:\n",
        "        # Prints if the number is even.\n",
        "        print(f\"{num} is even!\")\n",
        "    else:\n",
        "        # Prints if the number is odd.\n",
        "        print(f\"{num} is odd!\")\n",
        "\n",
        "# 5. Challenge: Sum of First n Fibonacci Numbers\n",
        "\n",
        "def fibonacci_sum(n):\n",
        "    # If n is zero or negative, the sum is 0.\n",
        "    if n <= 0:\n",
        "        return 0\n",
        "\n",
        "    a, b = 0, 1\n",
        "    sum_fib = 1\n",
        "\n",
        "    # Loop through and compute the sum.\n",
        "    for _ in range(n-1):\n",
        "        a, b = b, a + b\n",
        "        sum_fib += b\n",
        "\n",
        "    return sum_fib"
      ],
      "metadata": {
        "id": "UorLUdJ2L0o7"
      },
      "execution_count": null,
      "outputs": []
    },
    {
      "cell_type": "markdown",
      "source": [
        "# Testing the function"
      ],
      "metadata": {
        "id": "OhmQaC884Owq"
      }
    },
    {
      "cell_type": "code",
      "source": [
        "\n",
        "print(fibonacci_sum(5))  # Output should be 12 (0 + 1 + 1 + 2 + 3 + 5)\n",
        "\n",
        "\n"
      ],
      "metadata": {
        "id": "YY6noRu34MC2",
        "colab": {
          "base_uri": "https://localhost:8080/"
        },
        "outputId": "5b875b23-a12e-4f97-c3e2-2c6352e0e7c0"
      },
      "execution_count": null,
      "outputs": [
        {
          "output_type": "stream",
          "name": "stdout",
          "text": [
            "12\n"
          ]
        }
      ]
    },
    {
      "cell_type": "markdown",
      "source": [
        "# Conclusion\n",
        "Mastery of conditional statements and loops enables tackling a wide range of problems in linear algebra."
      ],
      "metadata": {
        "id": "iJQxx5JH4ZPV"
      }
    },
    {
      "cell_type": "markdown",
      "source": [
        "## Assinment 4\n",
        "\n",
        "Most of the python code you need for Assinment 4 you already have, but one of the function it maybe useulf is transpose, below we illustrate:\n"
      ],
      "metadata": {
        "id": "2NOrdMOM706d"
      }
    },
    {
      "cell_type": "code",
      "source": [
        "# Create a sample 3x2 matrix for demonstration\n",
        "A = np.array([[1, 2],\n",
        "                          [3, 4],\n",
        "                          [5, 6]])\n",
        "\n",
        "# Transpose the matrix using numpy's '.T' attribute\n",
        "sample_matrix_transposed = A.T\n",
        "\n",
        "# Display the original and transposed matrices\n",
        "print(\"Original matrix:\")\n",
        "print(sample_matrix)\n",
        "\n",
        "print(\"Transposed matrix:\")\n",
        "print(sample_matrix_transposed)\n"
      ],
      "metadata": {
        "id": "eULrbIgw8CPh"
      },
      "execution_count": null,
      "outputs": []
    }
  ]
}